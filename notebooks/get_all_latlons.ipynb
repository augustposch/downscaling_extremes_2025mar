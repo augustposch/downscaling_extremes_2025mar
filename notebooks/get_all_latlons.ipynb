{
 "cells": [
  {
   "cell_type": "markdown",
   "id": "99f04312-8eed-4353-9ec5-90b253fe982e",
   "metadata": {},
   "source": [
    "# Get all latlons\n",
    "\n",
    "August Posch --- February-March 2025"
   ]
  },
  {
   "cell_type": "markdown",
   "id": "5c4ab6b0-f83a-445d-8af9-9ba442bebcfe",
   "metadata": {},
   "source": [
    "This notebook reads in a downscaled product and saves the latitudes and longitudes of its gridcells as .npy files.\n",
    "\n",
    "All necessary parameters are specified in the first code block, as a dictionary called `parameters`."
   ]
  },
  {
   "cell_type": "code",
   "execution_count": 1,
   "id": "ba554caa-059d-48ff-97b6-bb8a6e3c3253",
   "metadata": {},
   "outputs": [],
   "source": [
    "parameters = {\n",
    "    'path_downsc_prod': '../data/LOCA_downscaled/pr.CESM2-LENS.ssp370.r1i1p1f1.2015-2044.LOCA_16thdeg_v20240915.n_east.nc',\n",
    "    'path_for_saving_lats': '../data/auxil/lats_locane.npy',\n",
    "    'path_for_saving_lons': '../data/auxil/lons_locane.npy',\n",
    "}"
   ]
  },
  {
   "cell_type": "code",
   "execution_count": 2,
   "id": "527172b4-7659-4794-9ad5-ef9812e7107e",
   "metadata": {},
   "outputs": [],
   "source": [
    "import xarray as xr\n",
    "import pandas as pd\n",
    "import numpy as np"
   ]
  },
  {
   "cell_type": "code",
   "execution_count": 3,
   "id": "6da8e708-0162-4404-b885-27bae0bb462a",
   "metadata": {},
   "outputs": [],
   "source": [
    "ds = xr.open_dataset(parameters['path_downsc_prod'], engine='netcdf4')"
   ]
  },
  {
   "cell_type": "markdown",
   "id": "f3a39330-193b-432c-9555-8e4e424b5b65",
   "metadata": {},
   "source": [
    "Save the lats and lons as numpy arrays for use in the next notebook."
   ]
  },
  {
   "cell_type": "code",
   "execution_count": 4,
   "id": "60201e94-e85b-41e3-afe5-83fb043d4a76",
   "metadata": {},
   "outputs": [],
   "source": [
    "# Get the lats and lons as numpy arrays\n",
    "lats_np = np.array(ds.coords['lat'])\n",
    "lons_np = np.array(ds.coords['lon'])"
   ]
  },
  {
   "cell_type": "code",
   "execution_count": 5,
   "id": "9ac52ee2-8483-42cc-aef7-f7ac9efd6646",
   "metadata": {},
   "outputs": [],
   "source": [
    "np.save(parameters['path_for_saving_lats'],lats_np)\n",
    "np.save(parameters['path_for_saving_lons'],lons_np)"
   ]
  },
  {
   "cell_type": "markdown",
   "id": "8fede16b-c0a7-423a-a484-0c70254bb24a",
   "metadata": {},
   "source": [
    "That's it for this notebook."
   ]
  }
 ],
 "metadata": {
  "kernelspec": {
   "display_name": "Python 3 (ipykernel)",
   "language": "python",
   "name": "python3"
  },
  "language_info": {
   "codemirror_mode": {
    "name": "ipython",
    "version": 3
   },
   "file_extension": ".py",
   "mimetype": "text/x-python",
   "name": "python",
   "nbconvert_exporter": "python",
   "pygments_lexer": "ipython3",
   "version": "3.9.18"
  }
 },
 "nbformat": 4,
 "nbformat_minor": 5
}
